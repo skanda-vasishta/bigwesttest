{
 "cells": [
  {
   "cell_type": "code",
   "execution_count": 1,
   "id": "fc859b0a",
   "metadata": {},
   "outputs": [
    {
     "name": "stderr",
     "output_type": "stream",
     "text": [
      "/Users/skandavasishta/anaconda3/lib/python3.11/site-packages/pandas/core/arrays/masked.py:60: UserWarning: Pandas requires version '1.3.6' or newer of 'bottleneck' (version '1.3.5' currently installed).\n",
      "  from pandas.core import (\n"
     ]
    }
   ],
   "source": [
    "import pandas as pd\n",
    "import numpy as np\n",
    "import matplotlib.pyplot as plt"
   ]
  },
  {
   "cell_type": "code",
   "execution_count": 2,
   "id": "70961894",
   "metadata": {},
   "outputs": [
    {
     "name": "stdout",
     "output_type": "stream",
     "text": [
      "Requirement already satisfied: kenpompy in /Users/skandavasishta/anaconda3/lib/python3.11/site-packages (0.4.0)\n",
      "Requirement already satisfied: mechanicalsoup in /Users/skandavasishta/anaconda3/lib/python3.11/site-packages (from kenpompy) (1.3.0)\n",
      "Requirement already satisfied: pandas in /Users/skandavasishta/anaconda3/lib/python3.11/site-packages (from kenpompy) (2.2.2)\n",
      "Requirement already satisfied: bs4 in /Users/skandavasishta/anaconda3/lib/python3.11/site-packages (from kenpompy) (0.0.1)\n",
      "Requirement already satisfied: cloudscraper in /Users/skandavasishta/anaconda3/lib/python3.11/site-packages (from kenpompy) (1.2.71)\n",
      "Requirement already satisfied: beautifulsoup4 in /Users/skandavasishta/anaconda3/lib/python3.11/site-packages (from bs4->kenpompy) (4.12.2)\n",
      "Requirement already satisfied: pyparsing>=2.4.7 in /Users/skandavasishta/anaconda3/lib/python3.11/site-packages (from cloudscraper->kenpompy) (3.0.9)\n",
      "Requirement already satisfied: requests>=2.9.2 in /Users/skandavasishta/anaconda3/lib/python3.11/site-packages (from cloudscraper->kenpompy) (2.32.3)\n",
      "Requirement already satisfied: requests-toolbelt>=0.9.1 in /Users/skandavasishta/anaconda3/lib/python3.11/site-packages (from cloudscraper->kenpompy) (1.0.0)\n",
      "Requirement already satisfied: lxml in /Users/skandavasishta/anaconda3/lib/python3.11/site-packages (from mechanicalsoup->kenpompy) (4.9.3)\n",
      "Requirement already satisfied: numpy>=1.23.2 in /Users/skandavasishta/anaconda3/lib/python3.11/site-packages (from pandas->kenpompy) (1.26.4)\n",
      "Requirement already satisfied: python-dateutil>=2.8.2 in /Users/skandavasishta/anaconda3/lib/python3.11/site-packages (from pandas->kenpompy) (2.9.0.post0)\n",
      "Requirement already satisfied: pytz>=2020.1 in /Users/skandavasishta/anaconda3/lib/python3.11/site-packages (from pandas->kenpompy) (2024.1)\n",
      "Requirement already satisfied: tzdata>=2022.7 in /Users/skandavasishta/anaconda3/lib/python3.11/site-packages (from pandas->kenpompy) (2024.1)\n",
      "Requirement already satisfied: soupsieve>1.2 in /Users/skandavasishta/anaconda3/lib/python3.11/site-packages (from beautifulsoup4->bs4->kenpompy) (2.4)\n",
      "Requirement already satisfied: six>=1.5 in /Users/skandavasishta/anaconda3/lib/python3.11/site-packages (from python-dateutil>=2.8.2->pandas->kenpompy) (1.16.0)\n",
      "Requirement already satisfied: charset-normalizer<4,>=2 in /Users/skandavasishta/anaconda3/lib/python3.11/site-packages (from requests>=2.9.2->cloudscraper->kenpompy) (3.3.2)\n",
      "Requirement already satisfied: idna<4,>=2.5 in /Users/skandavasishta/anaconda3/lib/python3.11/site-packages (from requests>=2.9.2->cloudscraper->kenpompy) (3.7)\n",
      "Requirement already satisfied: urllib3<3,>=1.21.1 in /Users/skandavasishta/anaconda3/lib/python3.11/site-packages (from requests>=2.9.2->cloudscraper->kenpompy) (2.2.2)\n",
      "Requirement already satisfied: certifi>=2017.4.17 in /Users/skandavasishta/anaconda3/lib/python3.11/site-packages (from requests>=2.9.2->cloudscraper->kenpompy) (2024.7.4)\n",
      "\n",
      "\u001b[1m[\u001b[0m\u001b[34;49mnotice\u001b[0m\u001b[1;39;49m]\u001b[0m\u001b[39;49m A new release of pip is available: \u001b[0m\u001b[31;49m24.2\u001b[0m\u001b[39;49m -> \u001b[0m\u001b[32;49m25.0.1\u001b[0m\n",
      "\u001b[1m[\u001b[0m\u001b[34;49mnotice\u001b[0m\u001b[1;39;49m]\u001b[0m\u001b[39;49m To update, run: \u001b[0m\u001b[32;49mpip install --upgrade pip\u001b[0m\n",
      "Note: you may need to restart the kernel to use updated packages.\n"
     ]
    }
   ],
   "source": [
    "%pip install kenpompy"
   ]
  },
  {
   "cell_type": "code",
   "execution_count": 3,
   "id": "f21b7910",
   "metadata": {},
   "outputs": [],
   "source": [
    "from kenpompy.utils import login\n",
    "email, pw = 'gauchosportsanalytics@gmail.com', 'gsac2025'\n",
    "browser = login(email, pw)"
   ]
  },
  {
   "cell_type": "code",
   "execution_count": 4,
   "id": "ae6ea6d0",
   "metadata": {},
   "outputs": [],
   "source": [
    "import kenpompy.summary as kp\n",
    "\n",
    "# Returns a pandas dataframe containing the efficiency and tempo stats for the current season (https://kenpom.com/summary.php).\n",
    "eff_stats = kp.get_efficiency(browser)"
   ]
  },
  {
   "cell_type": "code",
   "execution_count": 5,
   "id": "0e8a9325",
   "metadata": {
    "scrolled": true
   },
   "outputs": [
    {
     "data": {
      "text/html": [
       "<div>\n",
       "<style scoped>\n",
       "    .dataframe tbody tr th:only-of-type {\n",
       "        vertical-align: middle;\n",
       "    }\n",
       "\n",
       "    .dataframe tbody tr th {\n",
       "        vertical-align: top;\n",
       "    }\n",
       "\n",
       "    .dataframe thead th {\n",
       "        text-align: right;\n",
       "    }\n",
       "</style>\n",
       "<table border=\"1\" class=\"dataframe\">\n",
       "  <thead>\n",
       "    <tr style=\"text-align: right;\">\n",
       "      <th></th>\n",
       "      <th>Team</th>\n",
       "      <th>Conference</th>\n",
       "      <th>Tempo-Adj</th>\n",
       "      <th>Tempo-Adj.Rank</th>\n",
       "      <th>Tempo-Raw</th>\n",
       "      <th>Tempo-Raw.Rank</th>\n",
       "      <th>Avg. Poss Length-Offense</th>\n",
       "      <th>Avg. Poss Length-Offense.Rank</th>\n",
       "      <th>Avg. Poss Length-Defense</th>\n",
       "      <th>Avg. Poss Length-Defense.Rank</th>\n",
       "      <th>Off. Efficiency-Adj</th>\n",
       "      <th>Off. Efficiency-Adj.Rank</th>\n",
       "      <th>Off. Efficiency-Raw</th>\n",
       "      <th>Off. Efficiency-Raw.Rank</th>\n",
       "      <th>Def. Efficiency-Adj</th>\n",
       "      <th>Def. Efficiency-Adj.Rank</th>\n",
       "      <th>Def. Efficiency-Raw</th>\n",
       "      <th>Def. Efficiency-Raw.Rank</th>\n",
       "    </tr>\n",
       "  </thead>\n",
       "  <tbody>\n",
       "    <tr>\n",
       "      <th>310</th>\n",
       "      <td>UC Santa Barbara</td>\n",
       "      <td>BW</td>\n",
       "      <td>65.3</td>\n",
       "      <td>297</td>\n",
       "      <td>66.0</td>\n",
       "      <td>288</td>\n",
       "      <td>18.3</td>\n",
       "      <td>273</td>\n",
       "      <td>17.8</td>\n",
       "      <td>223</td>\n",
       "      <td>109.5</td>\n",
       "      <td>134</td>\n",
       "      <td>110.8</td>\n",
       "      <td>74</td>\n",
       "      <td>106.7</td>\n",
       "      <td>159</td>\n",
       "      <td>101.9</td>\n",
       "      <td>78</td>\n",
       "    </tr>\n",
       "  </tbody>\n",
       "</table>\n",
       "</div>"
      ],
      "text/plain": [
       "                 Team Conference Tempo-Adj Tempo-Adj.Rank Tempo-Raw  \\\n",
       "310  UC Santa Barbara         BW      65.3            297      66.0   \n",
       "\n",
       "    Tempo-Raw.Rank Avg. Poss Length-Offense Avg. Poss Length-Offense.Rank  \\\n",
       "310            288                     18.3                           273   \n",
       "\n",
       "    Avg. Poss Length-Defense Avg. Poss Length-Defense.Rank  \\\n",
       "310                     17.8                           223   \n",
       "\n",
       "    Off. Efficiency-Adj Off. Efficiency-Adj.Rank Off. Efficiency-Raw  \\\n",
       "310               109.5                      134               110.8   \n",
       "\n",
       "    Off. Efficiency-Raw.Rank Def. Efficiency-Adj Def. Efficiency-Adj.Rank  \\\n",
       "310                       74               106.7                      159   \n",
       "\n",
       "    Def. Efficiency-Raw Def. Efficiency-Raw.Rank  \n",
       "310               101.9                       78  "
      ]
     },
     "execution_count": 5,
     "metadata": {},
     "output_type": "execute_result"
    }
   ],
   "source": [
    "eff_stats[eff_stats['Team'] == 'UC Santa Barbara']"
   ]
  },
  {
   "cell_type": "code",
   "execution_count": 6,
   "id": "f76c4d85",
   "metadata": {},
   "outputs": [
    {
     "data": {
      "text/html": [
       "<div>\n",
       "<style scoped>\n",
       "    .dataframe tbody tr th:only-of-type {\n",
       "        vertical-align: middle;\n",
       "    }\n",
       "\n",
       "    .dataframe tbody tr th {\n",
       "        vertical-align: top;\n",
       "    }\n",
       "\n",
       "    .dataframe thead th {\n",
       "        text-align: right;\n",
       "    }\n",
       "</style>\n",
       "<table border=\"1\" class=\"dataframe\">\n",
       "  <thead>\n",
       "    <tr style=\"text-align: right;\">\n",
       "      <th></th>\n",
       "      <th>Rank</th>\n",
       "      <th>Player</th>\n",
       "      <th>Team</th>\n",
       "      <th>EFG</th>\n",
       "      <th>Ht</th>\n",
       "      <th>Wt</th>\n",
       "      <th>Yr</th>\n",
       "    </tr>\n",
       "  </thead>\n",
       "  <tbody>\n",
       "    <tr>\n",
       "      <th>1</th>\n",
       "      <td>2</td>\n",
       "      <td>Cole Anderson</td>\n",
       "      <td>UC Santa Barbara</td>\n",
       "      <td>72.2</td>\n",
       "      <td>6-4</td>\n",
       "      <td>195</td>\n",
       "      <td>Sr</td>\n",
       "    </tr>\n",
       "    <tr>\n",
       "      <th>41</th>\n",
       "      <td>42</td>\n",
       "      <td>Kenny Pohto</td>\n",
       "      <td>UC Santa Barbara</td>\n",
       "      <td>62.2</td>\n",
       "      <td>6-11</td>\n",
       "      <td>240</td>\n",
       "      <td>Sr</td>\n",
       "    </tr>\n",
       "  </tbody>\n",
       "</table>\n",
       "</div>"
      ],
      "text/plain": [
       "    Rank         Player              Team   EFG    Ht   Wt  Yr\n",
       "1      2  Cole Anderson  UC Santa Barbara  72.2   6-4  195  Sr\n",
       "41    42    Kenny Pohto  UC Santa Barbara  62.2  6-11  240  Sr"
      ]
     },
     "execution_count": 6,
     "metadata": {},
     "output_type": "execute_result"
    }
   ],
   "source": [
    "player_stats = kp.get_playerstats(browser)\n",
    "sb_players = player_stats[player_stats['Team']=='UC Santa Barbara']\n",
    "sb_players"
   ]
  },
  {
   "cell_type": "code",
   "execution_count": 14,
   "id": "2d2909c7",
   "metadata": {},
   "outputs": [],
   "source": [
    "import kenpompy.utils as ku\n",
    "test = ku.get_html(browser, 'https://kenpom.com/team.php?team=UC+Santa+Barbara')"
   ]
  },
  {
   "cell_type": "code",
   "execution_count": 15,
   "id": "9553851f",
   "metadata": {},
   "outputs": [
    {
     "data": {
      "text/plain": [
       "b'<!DOCTYPE HTML>\\n<HTML>\\n<HEAD>\\n<meta name=\"viewport\" content=\"width=device-width, initial-scale=1, maximum-scale=1\"><LINK REL=stylesheet TYPE=\"text/css\" HREF=\"css/rate.css?1662440188\">\\n<LINK REL=stylesheet TYPE=\"text/css\" HREF=\"css/register-kenpom.css?1662440188\">\\n<LINK REL=stylesheet TYPE=\"text/css\" HREF=\"css/register-form.css?1662440188\">\\n<script src=\"https://js.stripe.com/v3/\"></script>\\n<script>\\n    // var stripe = Stripe(\"pk_test_RJQG1MFMktLBQoqPHxFdmmqb\");\\n    var stripe = Stripe(\"pk_live_CYWasP21mVKAkZeR34iUd1IT\");\\n    var elements = stripe.elements({\\n        fonts: [\\n            {\\n                cssSrc: \\'https://fonts.googleapis.com/css?family=Signika\\'\\n            }\\n        ],\\n    });\\n</script>\\n<TITLE>kenpom.com subscription</TITLE>\\n\\n<!-- Google tag (gtag.js) -->\\n<script async src=\"https://www.googletagmanager.com/gtag/js?id=G-6DKK0E2CDM\"></script>\\n<script>\\n  window.dataLayer = window.dataLayer || [];\\n  function gtag(){dataLayer.push(arguments);}\\n  gtag(\\'js\\', new Date());\\n  gtag(\\'config\\', \\'G-6DKK0E2CDM\\');\\n</script>\\n\\n<!-- try to use css link for google fonts -->\\n<link rel=\"stylesheet\" type=\"text/css\" href=\"https://fonts.googleapis.com/css?family=Signika:600,400&text=1234567890ABCDEFGHIJKLMNOPQRSTUVWXYZabcdefghijklmnopqrstuvwxyz:%c3%97%C3%A9%c2%b7%C2%A9%20%26%2B%2D%2C%2E%25%27%28%29%2a%7C%95%3F\" />\\n\\n<link rel=\"Shortcut Icon\" type=\"image/ico\" href=\"assets/favicon.ico?1662440188\" />\\n\\n<LINK REL=stylesheet TYPE=\\'text/css\\' HREF=\\'css/master2.css?1734893002\\'><script src=\\'https://code.jquery.com/jquery-1.11.3.min.js\\'></script>\\n<script src=\\'menu.js?1662440188\\'></script>\\n\\n</head>\\n\\n<body>\\n<div id=\"wrapper\">\\n<div id=\"container\">\\n<!-- <div id=\\'login-container\\'> -->\\n<div id=\"logged-in\">\\n<div id=\"login-box\">\\n<div id=\\'empty-left\\'></div><div id=\\'login-form\\'><form id=\"login\" method=\"POST\" action=\"handlers/login_handler.php\">\\n<input type=\"email\" name=\"email\" placeholder=\"E-mail\"/ required>\\n<input type=\"password\" name=\"password\" placeholder=\"Password\"/ required>\\n<input type=\"submit\" name=\"submit\" value=\"Login!\" />\\n<span class=\"desktopHide\"><br></span><input type=\"checkbox\" name=\"remember\" />Remember me &nbsp;&nbsp;\\n<a href=\"forgotpassword.php\">Forgot password?</a>\\n</form>\\n</div><div id=\"subscribe\">\\n<span class=\"mobileHide\"><a href=\"register-kenpom.php\"><img src=\"assets/subscribe.png\" alt=\"Subscribe!\" /></a>\\n</span><span class=\"desktopHide subscribe_text\"><a href=\"register-kenpom.php\"><strong> SUBSCRIBE!</strong></a></span>\\n</div>\\n</div>\\n    <!-- new navigation bar -->\\n    <div id=\"logo-header\">\\n        <div id=\"tagline-container\">\\n            <div class=\"icon\"><a href=\"https://doubletakeout.com\"><img src=\"https://kenpom.com/assets/dt_logo.svg\" width=\"30\"></a></div>\\n            <div id=\"tagline\"><h3>ADVANCED ANALYSIS OF COLLEGE BASKETBALL</h3></div>\\n            <div class=\"icon\">\\n                <a href=\"https://kenpom.substack.com\"><img src=\"https://kenpom.com/assets/substack.svg\" height=\"16\"></a>\\n                <a href=\"https://dunksandthrees.com\"><img src=\"https://kenpom.com/assets/dunksandthrees.svg\" height=\"16\"></a>\\n            </div>\\n        </div>\\n        <hr><hr>\\n    </div> <!-- end logo-header div -->\\n    <div id=\"nav2\">\\n        <nav>\\n            <h1 class=\"logo\"><a href=\"/\"><img src=\"assets/kenpom_new.png\" /></a></h1>\\n            <a class=\"burger-nav\"><span class=\"burger-span\">&#8801;</span></a>\\n            <ul id=\"main-menu\">\\n                <li id=\"stats-menu\" class=\"stats\"><a href=\"#\">Stats</a>\\n                    <ul>\\n                        <li><a href=\"summary.php\">Efficiency</a></li>\\n                        <li><a href=\"stats.php\">Four Factors</a></li>\\n                        <li><a href=\"playerstats.php\">Player Stats</a></li>\\n                        <li><a href=\"pointdist.php\">Point Distribution</a></li>\\n                        <li><a href=\"height.php\">Height/Experience</a></li>\\n                        <li><a href=\"teamstats.php\">Misc. Team Stats</a></li>\\n                    </ul>\\n                </li>\\n                <li class=\"fanmatch\"><a href=\"fanmatch.php\" title=\"FanMatch\">FanMatch</a></li>\\n                <li class=\"universe\"><a href=\"universe.php\" title=\"D-I Universe\">D-I Universe</a></li>\\n                <li id=\"misc-menu\" class=\"misc\"><a href=\"#\">Miscellany</a>\\n                    <ul>\\n                        <li><a href=\"blog\">Blog</a></li>\\n                        <li><a href=\"game_attrs.php\">Game Rankings</a></li>\\n                        <li><a href=\"trends.php\">D-I Stats Trends</a></li>\\n                        <li><a href=\"officials.php\">Ref Ratings</a></li>\\n                        <li><a href=\"hca.php\">Home Court Ratings</a></li>\\n                        <li><a href=\"arenas.php\">Arena Capacity</a></li>\\n                    </ul>\\n                </li>\\n                <li class=\"search\">\\n                    <form action=\"team.php\">\\n                        <input id=\"teams\" name=\"team\" placeholder=\"Search teams\"/>\\n                    </form>\\n                    <form action=\"history.php\">\\n                        <input id=\"coaches\" name=\"c\" placeholder=\"Search coaches\"/>\\n                    </form>\\n                </li>\\n                <li class=\"contact\"><a href=\"contact.php\" title=\"Contact\">Contact</a></li>\\n            </ul>\\n        </nav>\\n    </div>\\n    <hr>\\n    <hr>\\n</div>\\n\\n<!-- The content header -->\\n<div id=\"content-header\">\\n<p style=color:red>The page you are requesting is available to subscribers only.</p>\\n<h4 id=\"sub\">Purchase a 12-month subscription for $24.95</h4>\\n\\n<div id=\"column-left\">\\n<p>You\\'ll get unrestricted <b>ad-free</b> access to the most insightful \\ncollege basketball data on the web, including...</p>\\n<p>&raquo; All of the data that <a href=\"http://www.nytimes.com/2011/03/24/sports/ncaabasketball/24ncaa.html\" \\ntarget=\"_blank\"> many of the nation\\'s most successful coaches use.</a></p>\\n<p>&raquo; Detailed statistical breakdowns of <a href=\"/team.php?team=South+Alabama\">every team</a> \\nand <a href=\"/player.php?p=21138\">player</a> in Division I.</p>\\n<p>&raquo; <a href=\"fanmatch.php?d=2012-12-31\">Predictions</a> and <a href=\"box.php?g=458&y=2013\">box scores</a> \\nfor every Division I game this season, along with a forecast of a team\\'s final conference and overall record.</p>\\n<p>&raquo; <b>Still undecided?\\nCheck out the <a href=\"tour.php\" target=\"_blank\">guided tour</a> \\n    for a preview of additional content available.</b></p>\\n<p><b>Note:</b><br/>\\n&raquo; To purchase a subscription as a gift for someone <a href=\"gift-kenpom.php\">go here</a>.</p>\\n<p>&raquo; If you are trying to renew (even if the subscription has lapsed) you must log-in above and use the \\nrenew link that will appear.</p>\\n</div>\\n<div id=\"column-right\">\\n<p>Please enter the information requested below to sign up. (Payments processed by <a href=\\'https://stripe.com\\' target=\"_blank\">Stripe</a>. No credit card information will be stored at kenpom.com.)</p><div id=\"form-area\">\\n\\n<form action=\"stripe.php?action=process\" method=\"post\" id=\"payment-form\">\\n<div class=\"form-row\">\\n    <label>Email</label><input type=\"email\" name=\"email1\" required/>\\n</div>\\n<div class=\"form-row\">\\n    <label>Re-enter Email</label><input type=\"email\" name=\"email2\" required/>\\n</div>\\n<div class=\"form-row\">\\n    <label>Enter a Password</label> <input type=\"password\" name=\"password1\" minlength=\"8\" required/>\\n</div>\\n<div class=\"form-row\">\\n    <label>Re-enter Password</label> <input type=\"password\" name=\"password2\" minlength=\"8\" required/>\\n</div>\\n<div class=\"form-row\">\\n    <label><a href=\"popular.php\" target=\"_blank\">Favorite team</a></label> <select name=\"favorite\"><option value=\"NULL\" selected>I don\\'t want to say</option>\\n<option value=\"Abilene Christian\">Abilene Christian</option>\\n<option value=\"Air Force\">Air Force</option>\\n<option value=\"Akron\">Akron</option>\\n<option value=\"Alabama\">Alabama</option>\\n<option value=\"Alabama A&M\">Alabama A&M</option>\\n<option value=\"Alabama St.\">Alabama St.</option>\\n<option value=\"Albany\">Albany</option>\\n<option value=\"Alcorn St.\">Alcorn St.</option>\\n<option value=\"American\">American</option>\\n<option value=\"Appalachian St.\">Appalachian St.</option>\\n<option value=\"Arizona\">Arizona</option>\\n<option value=\"Arizona St.\">Arizona St.</option>\\n<option value=\"Arkansas\">Arkansas</option>\\n<option value=\"Arkansas Pine Bluff\">Arkansas Pine Bluff</option>\\n<option value=\"Arkansas St.\">Arkansas St.</option>\\n<option value=\"Army\">Army</option>\\n<option value=\"Auburn\">Auburn</option>\\n<option value=\"Austin Peay\">Austin Peay</option>\\n<option value=\"Ball St.\">Ball St.</option>\\n<option value=\"Baylor\">Baylor</option>\\n<option value=\"Bellarmine\">Bellarmine</option>\\n<option value=\"Belmont\">Belmont</option>\\n<option value=\"Bethune Cookman\">Bethune Cookman</option>\\n<option value=\"Binghamton\">Binghamton</option>\\n<option value=\"Boise St.\">Boise St.</option>\\n<option value=\"Boston College\">Boston College</option>\\n<option value=\"Boston University\">Boston University</option>\\n<option value=\"Bowling Green\">Bowling Green</option>\\n<option value=\"Bradley\">Bradley</option>\\n<option value=\"Brown\">Brown</option>\\n<option value=\"Bryant\">Bryant</option>\\n<option value=\"Bucknell\">Bucknell</option>\\n<option value=\"Buffalo\">Buffalo</option>\\n<option value=\"Butler\">Butler</option>\\n<option value=\"BYU\">BYU</option>\\n<option value=\"Cal Baptist\">Cal Baptist</option>\\n<option value=\"Cal Poly\">Cal Poly</option>\\n<option value=\"Cal St. Bakersfield\">Cal St. Bakersfield</option>\\n<option value=\"Cal St. Fullerton\">Cal St. Fullerton</option>\\n<option value=\"California\">California</option>\\n<option value=\"Campbell\">Campbell</option>\\n<option value=\"Canisius\">Canisius</option>\\n<option value=\"Central Arkansas\">Central Arkansas</option>\\n<option value=\"Central Connecticut\">Central Connecticut</option>\\n<option value=\"Central Michigan\">Central Michigan</option>\\n<option value=\"Charleston\">Charleston</option>\\n<option value=\"Charleston Southern\">Charleston Southern</option>\\n<option value=\"Charlotte\">Charlotte</option>\\n<option value=\"Chattanooga\">Chattanooga</option>\\n<option value=\"Chicago St.\">Chicago St.</option>\\n<option value=\"Cincinnati\">Cincinnati</option>\\n<option value=\"Clemson\">Clemson</option>\\n<option value=\"Cleveland St.\">Cleveland St.</option>\\n<option value=\"Coastal Carolina\">Coastal Carolina</option>\\n<option value=\"Colgate\">Colgate</option>\\n<option value=\"Colorado\">Colorado</option>\\n<option value=\"Colorado St.\">Colorado St.</option>\\n<option value=\"Columbia\">Columbia</option>\\n<option value=\"Connecticut\">Connecticut</option>\\n<option value=\"Coppin St.\">Coppin St.</option>\\n<option value=\"Cornell\">Cornell</option>\\n<option value=\"Creighton\">Creighton</option>\\n<option value=\"CSUN\">CSUN</option>\\n<option value=\"Dartmouth\">Dartmouth</option>\\n<option value=\"Davidson\">Davidson</option>\\n<option value=\"Dayton\">Dayton</option>\\n<option value=\"Delaware\">Delaware</option>\\n<option value=\"Delaware St.\">Delaware St.</option>\\n<option value=\"Denver\">Denver</option>\\n<option value=\"DePaul\">DePaul</option>\\n<option value=\"Detroit Mercy\">Detroit Mercy</option>\\n<option value=\"Drake\">Drake</option>\\n<option value=\"Drexel\">Drexel</option>\\n<option value=\"Duke\">Duke</option>\\n<option value=\"Duquesne\">Duquesne</option>\\n<option value=\"East Carolina\">East Carolina</option>\\n<option value=\"East Tennessee St.\">East Tennessee St.</option>\\n<option value=\"East Texas A&M\">East Texas A&M</option>\\n<option value=\"Eastern Illinois\">Eastern Illinois</option>\\n<option value=\"Eastern Kentucky\">Eastern Kentucky</option>\\n<option value=\"Eastern Michigan\">Eastern Michigan</option>\\n<option value=\"Eastern Washington\">Eastern Washington</option>\\n<option value=\"Elon\">Elon</option>\\n<option value=\"Evansville\">Evansville</option>\\n<option value=\"Fairfield\">Fairfield</option>\\n<option value=\"Fairleigh Dickinson\">Fairleigh Dickinson</option>\\n<option value=\"FIU\">FIU</option>\\n<option value=\"Florida\">Florida</option>\\n<option value=\"Florida A&M\">Florida A&M</option>\\n<option value=\"Florida Atlantic\">Florida Atlantic</option>\\n<option value=\"Florida Gulf Coast\">Florida Gulf Coast</option>\\n<option value=\"Florida St.\">Florida St.</option>\\n<option value=\"Fordham\">Fordham</option>\\n<option value=\"Fresno St.\">Fresno St.</option>\\n<option value=\"Furman\">Furman</option>\\n<option value=\"Gardner Webb\">Gardner Webb</option>\\n<option value=\"George Mason\">George Mason</option>\\n<option value=\"George Washington\">George Washington</option>\\n<option value=\"Georgetown\">Georgetown</option>\\n<option value=\"Georgia\">Georgia</option>\\n<option value=\"Georgia Southern\">Georgia Southern</option>\\n<option value=\"Georgia St.\">Georgia St.</option>\\n<option value=\"Georgia Tech\">Georgia Tech</option>\\n<option value=\"Gonzaga\">Gonzaga</option>\\n<option value=\"Grambling St.\">Grambling St.</option>\\n<option value=\"Grand Canyon\">Grand Canyon</option>\\n<option value=\"Green Bay\">Green Bay</option>\\n<option value=\"Hampton\">Hampton</option>\\n<option value=\"Harvard\">Harvard</option>\\n<option value=\"Hawaii\">Hawaii</option>\\n<option value=\"High Point\">High Point</option>\\n<option value=\"Hofstra\">Hofstra</option>\\n<option value=\"Holy Cross\">Holy Cross</option>\\n<option value=\"Houston\">Houston</option>\\n<option value=\"Houston Christian\">Houston Christian</option>\\n<option value=\"Howard\">Howard</option>\\n<option value=\"Idaho\">Idaho</option>\\n<option value=\"Idaho St.\">Idaho St.</option>\\n<option value=\"Illinois\">Illinois</option>\\n<option value=\"Illinois Chicago\">Illinois Chicago</option>\\n<option value=\"Illinois St.\">Illinois St.</option>\\n<option value=\"Incarnate Word\">Incarnate Word</option>\\n<option value=\"Indiana\">Indiana</option>\\n<option value=\"Indiana St.\">Indiana St.</option>\\n<option value=\"Iona\">Iona</option>\\n<option value=\"Iowa\">Iowa</option>\\n<option value=\"Iowa St.\">Iowa St.</option>\\n<option value=\"IU Indy\">IU Indy</option>\\n<option value=\"Jackson St.\">Jackson St.</option>\\n<option value=\"Jacksonville\">Jacksonville</option>\\n<option value=\"Jacksonville St.\">Jacksonville St.</option>\\n<option value=\"James Madison\">James Madison</option>\\n<option value=\"Kansas\">Kansas</option>\\n<option value=\"Kansas City\">Kansas City</option>\\n<option value=\"Kansas St.\">Kansas St.</option>\\n<option value=\"Kennesaw St.\">Kennesaw St.</option>\\n<option value=\"Kent St.\">Kent St.</option>\\n<option value=\"Kentucky\">Kentucky</option>\\n<option value=\"La Salle\">La Salle</option>\\n<option value=\"Lafayette\">Lafayette</option>\\n<option value=\"Lamar\">Lamar</option>\\n<option value=\"Le Moyne\">Le Moyne</option>\\n<option value=\"Lehigh\">Lehigh</option>\\n<option value=\"Liberty\">Liberty</option>\\n<option value=\"Lindenwood\">Lindenwood</option>\\n<option value=\"Lipscomb\">Lipscomb</option>\\n<option value=\"Little Rock\">Little Rock</option>\\n<option value=\"LIU\">LIU</option>\\n<option value=\"Long Beach St.\">Long Beach St.</option>\\n<option value=\"Longwood\">Longwood</option>\\n<option value=\"Louisiana\">Louisiana</option>\\n<option value=\"Louisiana Monroe\">Louisiana Monroe</option>\\n<option value=\"Louisiana Tech\">Louisiana Tech</option>\\n<option value=\"Louisville\">Louisville</option>\\n<option value=\"Loyola Chicago\">Loyola Chicago</option>\\n<option value=\"Loyola Marymount\">Loyola Marymount</option>\\n<option value=\"Loyola MD\">Loyola MD</option>\\n<option value=\"LSU\">LSU</option>\\n<option value=\"Maine\">Maine</option>\\n<option value=\"Manhattan\">Manhattan</option>\\n<option value=\"Marist\">Marist</option>\\n<option value=\"Marquette\">Marquette</option>\\n<option value=\"Marshall\">Marshall</option>\\n<option value=\"Maryland\">Maryland</option>\\n<option value=\"Maryland Eastern Shore\">Maryland Eastern Shore</option>\\n<option value=\"Massachusetts\">Massachusetts</option>\\n<option value=\"McNeese\">McNeese</option>\\n<option value=\"Memphis\">Memphis</option>\\n<option value=\"Mercer\">Mercer</option>\\n<option value=\"Mercyhurst\">Mercyhurst</option>\\n<option value=\"Merrimack\">Merrimack</option>\\n<option value=\"Miami FL\">Miami FL</option>\\n<option value=\"Miami OH\">Miami OH</option>\\n<option value=\"Michigan\">Michigan</option>\\n<option value=\"Michigan St.\">Michigan St.</option>\\n<option value=\"Middle Tennessee\">Middle Tennessee</option>\\n<option value=\"Milwaukee\">Milwaukee</option>\\n<option value=\"Minnesota\">Minnesota</option>\\n<option value=\"Mississippi\">Mississippi</option>\\n<option value=\"Mississippi St.\">Mississippi St.</option>\\n<option value=\"Mississippi Valley St.\">Mississippi Valley St.</option>\\n<option value=\"Missouri\">Missouri</option>\\n<option value=\"Missouri St.\">Missouri St.</option>\\n<option value=\"Monmouth\">Monmouth</option>\\n<option value=\"Montana\">Montana</option>\\n<option value=\"Montana St.\">Montana St.</option>\\n<option value=\"Morehead St.\">Morehead St.</option>\\n<option value=\"Morgan St.\">Morgan St.</option>\\n<option value=\"Mount St. Mary\\'s\">Mount St. Mary\\'s</option>\\n<option value=\"Murray St.\">Murray St.</option>\\n<option value=\"N.C. State\">N.C. State</option>\\n<option value=\"Navy\">Navy</option>\\n<option value=\"Nebraska\">Nebraska</option>\\n<option value=\"Nebraska Omaha\">Nebraska Omaha</option>\\n<option value=\"Nevada\">Nevada</option>\\n<option value=\"New Hampshire\">New Hampshire</option>\\n<option value=\"New Mexico\">New Mexico</option>\\n<option value=\"New Mexico St.\">New Mexico St.</option>\\n<option value=\"New Orleans\">New Orleans</option>\\n<option value=\"Niagara\">Niagara</option>\\n<option value=\"Nicholls\">Nicholls</option>\\n<option value=\"NJIT\">NJIT</option>\\n<option value=\"Norfolk St.\">Norfolk St.</option>\\n<option value=\"North Alabama\">North Alabama</option>\\n<option value=\"North Carolina\">North Carolina</option>\\n<option value=\"North Carolina A&T\">North Carolina A&T</option>\\n<option value=\"North Carolina Central\">North Carolina Central</option>\\n<option value=\"North Dakota\">North Dakota</option>\\n<option value=\"North Dakota St.\">North Dakota St.</option>\\n<option value=\"North Florida\">North Florida</option>\\n<option value=\"North Texas\">North Texas</option>\\n<option value=\"Northeastern\">Northeastern</option>\\n<option value=\"Northern Arizona\">Northern Arizona</option>\\n<option value=\"Northern Colorado\">Northern Colorado</option>\\n<option value=\"Northern Illinois\">Northern Illinois</option>\\n<option value=\"Northern Iowa\">Northern Iowa</option>\\n<option value=\"Northern Kentucky\">Northern Kentucky</option>\\n<option value=\"Northwestern\">Northwestern</option>\\n<option value=\"Northwestern St.\">Northwestern St.</option>\\n<option value=\"Notre Dame\">Notre Dame</option>\\n<option value=\"Oakland\">Oakland</option>\\n<option value=\"Ohio\">Ohio</option>\\n<option value=\"Ohio St.\">Ohio St.</option>\\n<option value=\"Oklahoma\">Oklahoma</option>\\n<option value=\"Oklahoma St.\">Oklahoma St.</option>\\n<option value=\"Old Dominion\">Old Dominion</option>\\n<option value=\"Oral Roberts\">Oral Roberts</option>\\n<option value=\"Oregon\">Oregon</option>\\n<option value=\"Oregon St.\">Oregon St.</option>\\n<option value=\"Pacific\">Pacific</option>\\n<option value=\"Penn\">Penn</option>\\n<option value=\"Penn St.\">Penn St.</option>\\n<option value=\"Pepperdine\">Pepperdine</option>\\n<option value=\"Pittsburgh\">Pittsburgh</option>\\n<option value=\"Portland\">Portland</option>\\n<option value=\"Portland St.\">Portland St.</option>\\n<option value=\"Prairie View A&M\">Prairie View A&M</option>\\n<option value=\"Presbyterian\">Presbyterian</option>\\n<option value=\"Princeton\">Princeton</option>\\n<option value=\"Providence\">Providence</option>\\n<option value=\"Purdue\">Purdue</option>\\n<option value=\"Purdue Fort Wayne\">Purdue Fort Wayne</option>\\n<option value=\"Queens\">Queens</option>\\n<option value=\"Quinnipiac\">Quinnipiac</option>\\n<option value=\"Radford\">Radford</option>\\n<option value=\"Rhode Island\">Rhode Island</option>\\n<option value=\"Rice\">Rice</option>\\n<option value=\"Richmond\">Richmond</option>\\n<option value=\"Rider\">Rider</option>\\n<option value=\"Robert Morris\">Robert Morris</option>\\n<option value=\"Rutgers\">Rutgers</option>\\n<option value=\"Sacramento St.\">Sacramento St.</option>\\n<option value=\"Sacred Heart\">Sacred Heart</option>\\n<option value=\"Saint Francis\">Saint Francis</option>\\n<option value=\"Saint Joseph\\'s\">Saint Joseph\\'s</option>\\n<option value=\"Saint Louis\">Saint Louis</option>\\n<option value=\"Saint Mary\\'s\">Saint Mary\\'s</option>\\n<option value=\"Saint Peter\\'s\">Saint Peter\\'s</option>\\n<option value=\"Sam Houston St.\">Sam Houston St.</option>\\n<option value=\"Samford\">Samford</option>\\n<option value=\"San Diego\">San Diego</option>\\n<option value=\"San Diego St.\">San Diego St.</option>\\n<option value=\"San Francisco\">San Francisco</option>\\n<option value=\"San Jose St.\">San Jose St.</option>\\n<option value=\"Santa Clara\">Santa Clara</option>\\n<option value=\"Seattle\">Seattle</option>\\n<option value=\"Seton Hall\">Seton Hall</option>\\n<option value=\"Siena\">Siena</option>\\n<option value=\"SIUE\">SIUE</option>\\n<option value=\"SMU\">SMU</option>\\n<option value=\"South Alabama\">South Alabama</option>\\n<option value=\"South Carolina\">South Carolina</option>\\n<option value=\"South Carolina St.\">South Carolina St.</option>\\n<option value=\"South Dakota\">South Dakota</option>\\n<option value=\"South Dakota St.\">South Dakota St.</option>\\n<option value=\"South Florida\">South Florida</option>\\n<option value=\"Southeast Missouri\">Southeast Missouri</option>\\n<option value=\"Southeastern Louisiana\">Southeastern Louisiana</option>\\n<option value=\"Southern\">Southern</option>\\n<option value=\"Southern Illinois\">Southern Illinois</option>\\n<option value=\"Southern Indiana\">Southern Indiana</option>\\n<option value=\"Southern Miss\">Southern Miss</option>\\n<option value=\"Southern Utah\">Southern Utah</option>\\n<option value=\"St. Bonaventure\">St. Bonaventure</option>\\n<option value=\"St. John\\'s\">St. John\\'s</option>\\n<option value=\"St. Thomas\">St. Thomas</option>\\n<option value=\"Stanford\">Stanford</option>\\n<option value=\"Stephen F. Austin\">Stephen F. Austin</option>\\n<option value=\"Stetson\">Stetson</option>\\n<option value=\"Stonehill\">Stonehill</option>\\n<option value=\"Stony Brook\">Stony Brook</option>\\n<option value=\"Syracuse\">Syracuse</option>\\n<option value=\"Tarleton St.\">Tarleton St.</option>\\n<option value=\"TCU\">TCU</option>\\n<option value=\"Temple\">Temple</option>\\n<option value=\"Tennessee\">Tennessee</option>\\n<option value=\"Tennessee Martin\">Tennessee Martin</option>\\n<option value=\"Tennessee St.\">Tennessee St.</option>\\n<option value=\"Tennessee Tech\">Tennessee Tech</option>\\n<option value=\"Texas\">Texas</option>\\n<option value=\"Texas A&M\">Texas A&M</option>\\n<option value=\"Texas A&M Corpus Chris\">Texas A&M Corpus Chris</option>\\n<option value=\"Texas Southern\">Texas Southern</option>\\n<option value=\"Texas St.\">Texas St.</option>\\n<option value=\"Texas Tech\">Texas Tech</option>\\n<option value=\"The Citadel\">The Citadel</option>\\n<option value=\"Toledo\">Toledo</option>\\n<option value=\"Towson\">Towson</option>\\n<option value=\"Troy\">Troy</option>\\n<option value=\"Tulane\">Tulane</option>\\n<option value=\"Tulsa\">Tulsa</option>\\n<option value=\"UAB\">UAB</option>\\n<option value=\"UC Davis\">UC Davis</option>\\n<option value=\"UC Irvine\">UC Irvine</option>\\n<option value=\"UC Riverside\">UC Riverside</option>\\n<option value=\"UC San Diego\">UC San Diego</option>\\n<option value=\"UC Santa Barbara\">UC Santa Barbara</option>\\n<option value=\"UCF\">UCF</option>\\n<option value=\"UCLA\">UCLA</option>\\n<option value=\"UMass Lowell\">UMass Lowell</option>\\n<option value=\"UMBC\">UMBC</option>\\n<option value=\"UNC Asheville\">UNC Asheville</option>\\n<option value=\"UNC Greensboro\">UNC Greensboro</option>\\n<option value=\"UNC Wilmington\">UNC Wilmington</option>\\n<option value=\"UNLV\">UNLV</option>\\n<option value=\"USC\">USC</option>\\n<option value=\"USC Upstate\">USC Upstate</option>\\n<option value=\"UT Arlington\">UT Arlington</option>\\n<option value=\"UT Rio Grande Valley\">UT Rio Grande Valley</option>\\n<option value=\"Utah\">Utah</option>\\n<option value=\"Utah St.\">Utah St.</option>\\n<option value=\"Utah Tech\">Utah Tech</option>\\n<option value=\"Utah Valley\">Utah Valley</option>\\n<option value=\"UTEP\">UTEP</option>\\n<option value=\"UTSA\">UTSA</option>\\n<option value=\"Valparaiso\">Valparaiso</option>\\n<option value=\"Vanderbilt\">Vanderbilt</option>\\n<option value=\"VCU\">VCU</option>\\n<option value=\"Vermont\">Vermont</option>\\n<option value=\"Villanova\">Villanova</option>\\n<option value=\"Virginia\">Virginia</option>\\n<option value=\"Virginia Tech\">Virginia Tech</option>\\n<option value=\"VMI\">VMI</option>\\n<option value=\"Wagner\">Wagner</option>\\n<option value=\"Wake Forest\">Wake Forest</option>\\n<option value=\"Washington\">Washington</option>\\n<option value=\"Washington St.\">Washington St.</option>\\n<option value=\"Weber St.\">Weber St.</option>\\n<option value=\"West Georgia\">West Georgia</option>\\n<option value=\"West Virginia\">West Virginia</option>\\n<option value=\"Western Carolina\">Western Carolina</option>\\n<option value=\"Western Illinois\">Western Illinois</option>\\n<option value=\"Western Kentucky\">Western Kentucky</option>\\n<option value=\"Western Michigan\">Western Michigan</option>\\n<option value=\"Wichita St.\">Wichita St.</option>\\n<option value=\"William & Mary\">William & Mary</option>\\n<option value=\"Winthrop\">Winthrop</option>\\n<option value=\"Wisconsin\">Wisconsin</option>\\n<option value=\"Wofford\">Wofford</option>\\n<option value=\"Wright St.\">Wright St.</option>\\n<option value=\"Wyoming\">Wyoming</option>\\n<option value=\"Xavier\">Xavier</option>\\n<option value=\"Yale\">Yale</option>\\n<option value=\"Youngstown St.\">Youngstown St.</option>\\n </select></div>\\n\\n<div class=\"form-row\">\\n    <label>Credit/Debit Card</label>\\n    <div id=\"card-element\" class=\"field empty\"></div>\\n    <!-- Used to display Element errors. -->\\n    <div id=\"card-errors\" role=\"alert\"></div>\\n</div>\\n<div class=\"form-row\">\\n    <label class=\"checkbox\"><input type=\"checkbox\" name=\"agree\" value=\"checked\" class=\"checkbox\" required>\\n    I have read and agree to the <a href=\"terms.php\">terms of service</a> and <a href=\"privacy.php\">privacy policy</a> and understand all sales are final.</label>\\n</div>\\n<div class=\"form-row\"><input type=\\'hidden\\' name=\\'idempotency\\' id=\\'idempotency\\' value=\\'67c0f99e937df4.64672261\\'><button class=\"submit-button\" id=\"submit-button\">Pay $24.95<br/><span style=\"font-size:75%\">For 12 months of access</span></button></div></form>\\n</div>\\n</div>\\n<div id=\"sub-footer\"></div>\\n\\n<script>\\n    // Custom styling can be passed to options when creating an Element.\\n    var style = {\\n        base: {\\n            // Add your base input styles here. For example:\\n            fontSize: \\'16px\\',\\n            color: \\'#32325d\\',\\n            backgroundColor: \\'white\\',\\n            fontFamily: \\'Signika\\'\\n        },\\n    };\\n\\n    // Create an instance of the card Element.\\n    var card = elements.create(\\'card\\', {style: style});\\n\\n    // Add an instance of the card Element into the `card-element` <div>.\\n    card.mount(\\'#card-element\\');\\n\\n    // Validate input of the card elements\\n    var resultContainer = document.getElementById(\\'card-errors\\');\\n    card.addEventListener(\\'change\\', function(event) {\\n        if (event.error) {\\n            resultContainer.innerHTML = \\'<p>\\'+event.error.message+\\'</p>\\';\\n        } else {\\n            resultContainer.innerHTML = \\'\\';\\n        }\\n    });\\n\\n    // Get payment form element\\n    var form = document.getElementById(\\'payment-form\\');\\n\\n    // Create a token when the form is submitted.\\n    // deactivate button and change button text after it is clicked\\n    form.addEventListener(\\'submit\\', function(e) {\\n        e.preventDefault();\\n        var btn=document.getElementById(\\'submit-button\\');\\n        btn.innerText=\\'Submitting...\\';\\n        btn.style.color=\\'#bbb\\';\\n        createToken();\\n    });\\n\\n    // Create single-use token to charge the user\\n    function createToken() {\\n        stripe.createToken(card).then(function(result) {\\n            // console.log(result.token);\\n            // console.log(result.error);\\n            if (result.error) {\\n                // Inform the user if there was an error\\n                var errorElement = document.getElementById(\\'card-errors\\');\\n                errorElement.textContent = result.error.message;\\n            } else {\\n                // Send the token to your server\\n                // return;\\n                stripeTokenHandler(result.token,result);\\n            }\\n        });\\n    }\\n\\n    // Callback to handle the response from stripe\\n    function stripeTokenHandler(token,result) {\\n        // Insert the token ID into the form so it gets submitted to the server\\n        var hiddenInput = document.createElement(\\'input\\');\\n        hiddenInput.setAttribute(\\'type\\', \\'hidden\\');\\n        hiddenInput.setAttribute(\\'name\\', \\'stripeToken\\');\\n        hiddenInput.setAttribute(\\'value\\', token.id);\\n        var hiddenInput2 = document.createElement(\\'input\\');\\n        hiddenInput2.setAttribute(\\'type\\', \\'hidden\\');\\n        hiddenInput2.setAttribute(\\'name\\', \\'fullToken\\');\\n        hiddenInput2.setAttribute(\\'value\\', JSON.stringify(token));\\n        var hiddenInput3 = document.createElement(\\'input\\');\\n        hiddenInput3.setAttribute(\\'type\\', \\'hidden\\');\\n        hiddenInput3.setAttribute(\\'name\\', \\'fullError\\');\\n        hiddenInput3.setAttribute(\\'value\\', JSON.stringify(result.error));\\n        form.appendChild(hiddenInput);\\n        form.appendChild(hiddenInput2);\\n        form.appendChild(hiddenInput3);\\n\\n        // Submit the form\\n        form.submit();\\n    }\\n\\n</script>\\n</div></div></div>\\n<footer>\\n&copy; 1999-2025 The Forecast Factory LLC. All rights reserved.\\n<span class=\"mobileHide\">| <a href=\"terms.php\">Terms of Use</a> | <a href=\"privacy.php\">Privacy Policy</a> | Stats provided by <a href=\"https://stats.com\">STATS Perform</a><br /></span>\\n</footer>\\n\\n</body>\\n\\n<link rel=\"stylesheet\" href=\"https://code.jquery.com/ui/1.11.0/themes/smoothness/jquery-ui.min.css\">\\n<script type=\"text/javascript\" src=\"https://code.jquery.com/ui/1.11.0/jquery-ui.min.js\"></script>\\n<script type=\\'text/javascript\\' src=\\'coach_box.js?1733259700\\'></script>\\n</html>\\n'"
      ]
     },
     "execution_count": 15,
     "metadata": {},
     "output_type": "execute_result"
    }
   ],
   "source": [
    "test"
   ]
  },
  {
   "cell_type": "code",
   "execution_count": 10,
   "id": "52234d85",
   "metadata": {},
   "outputs": [
    {
     "ename": "AttributeError",
     "evalue": "module 'kenpompy' has no attribute 'team'",
     "output_type": "error",
     "traceback": [
      "\u001b[0;31m---------------------------------------------------------------------------\u001b[0m",
      "\u001b[0;31mAttributeError\u001b[0m                            Traceback (most recent call last)",
      "Cell \u001b[0;32mIn[10], line 3\u001b[0m\n\u001b[1;32m      1\u001b[0m \u001b[38;5;28;01mimport\u001b[39;00m \u001b[38;5;21;01mkenpompy\u001b[39;00m\n\u001b[0;32m----> 3\u001b[0m test \u001b[38;5;241m=\u001b[39m kenpompy\u001b[38;5;241m.\u001b[39mteam\u001b[38;5;241m.\u001b[39mget_scouting_report(browser, \u001b[38;5;124m'\u001b[39m\u001b[38;5;124mUC Santa Barbara\u001b[39m\u001b[38;5;124m'\u001b[39m, \u001b[38;5;241m2020\u001b[39m)\n",
      "\u001b[0;31mAttributeError\u001b[0m: module 'kenpompy' has no attribute 'team'"
     ]
    }
   ],
   "source": [
    "import kenpompy\n",
    "\n",
    "test = kenpompy.team.get_scouting_report(browser, 'UC Santa Barbara', 2020)"
   ]
  }
 ],
 "metadata": {
  "kernelspec": {
   "display_name": "Python 3 (ipykernel)",
   "language": "python",
   "name": "python3"
  },
  "language_info": {
   "codemirror_mode": {
    "name": "ipython",
    "version": 3
   },
   "file_extension": ".py",
   "mimetype": "text/x-python",
   "name": "python",
   "nbconvert_exporter": "python",
   "pygments_lexer": "ipython3",
   "version": "3.11.5"
  }
 },
 "nbformat": 4,
 "nbformat_minor": 5
}
